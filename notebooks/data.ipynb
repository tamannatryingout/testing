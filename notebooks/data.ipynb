{
 "cells": [
  {
   "cell_type": "code",
   "execution_count": null,
   "metadata": {},
   "outputs": [],
   "source": [
    "import sys\n",
    "sys.path.append('..')\n",
    "from pathlib import Path\n",
    "from src.data_processing.data_processor import DataProcessor\n",
    "from src.data_processing.data_analyzer import DataAnalyzer\n",
    "from src.data_processing.data_report import DataReport"
   ]
  },
  {
   "cell_type": "code",
   "execution_count": null,
   "metadata": {},
   "outputs": [],
   "source": [
    "path = Path(r'C:\\Users\\tamanna.rajput\\Documents\\data\\PrognoseBucket\\maksi\\umleitungs_zuglaeufe\\2023_07_30_1.parquet')\n",
    "da = DataAnalyzer(DataProcessor.read_data_file, file_path=path)"
   ]
  },
  {
   "cell_type": "code",
   "execution_count": null,
   "metadata": {},
   "outputs": [],
   "source": [
    "da.df "
   ]
  },
  {
   "cell_type": "code",
   "execution_count": null,
   "metadata": {},
   "outputs": [],
   "source": [
    "\"\"\"\n",
    "da.get_column_names_and_datatypes()\n",
    "da.get_entry_count()\n",
    "da.get_column_count()\n",
    "da.get_unique_values_per_column()\n",
    "da.get_total_missing_values_count()\n",
    "da.get_missing_values_per_column()\n",
    "da.check_for_duplicates()\n",
    "da.check_for_duplicates_by_identifier(identifier_column='DS_100_VON')\n",
    "da.get_basic_statistics_for_numeric_columns()\n",
    "\"\"\""
   ]
  },
  {
   "cell_type": "code",
   "execution_count": null,
   "metadata": {},
   "outputs": [],
   "source": [
    "# Create an instance of DataReport with the read_data_file argument\n",
    "data_reporter = DataReport(DataProcessor.read_data_file, file_path=path)\n",
    "\n",
    "# Generate the data report\n",
    "data_report = data_reporter.generate_data_report()\n",
    "\n",
    "# Pretty print the data report\n",
    "DataReport.pretty_print(data_report)"
   ]
  },
  {
   "cell_type": "code",
   "execution_count": null,
   "metadata": {},
   "outputs": [],
   "source": []
  }
 ],
 "metadata": {
  "kernelspec": {
   "display_name": "testing",
   "language": "python",
   "name": "python3"
  },
  "language_info": {
   "codemirror_mode": {
    "name": "ipython",
    "version": 3
   },
   "file_extension": ".py",
   "mimetype": "text/x-python",
   "name": "python",
   "nbconvert_exporter": "python",
   "pygments_lexer": "ipython3",
   "version": "3.8.18"
  }
 },
 "nbformat": 4,
 "nbformat_minor": 2
}
